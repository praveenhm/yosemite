{
 "cells": [
  {
   "cell_type": "code",
   "execution_count": 3,
   "metadata": {},
   "outputs": [
    {
     "data": {
      "text/html": [
       "\n",
       "        <!-- TailwindCSS CDN --> <script src=\"https://cdn.tailwindcss.com\"></script>\n",
       "\n",
       "        <!-- Lexend Variable Font --> <link href=\"https://fonts.googleapis.com/css2?family=Lexend:wght@100..900&display=swap\" rel=\"stylesheet\">\n",
       "\n",
       "        <!-- JetBrains Mono Variable Font --> <link href=\"https://fonts.googleapis.com/css2?family=JetBrains+Mono:wght@100..800&display=swap\" rel=\"stylesheet\">\n",
       "\n",
       "        <script>Jupyter.notebook.hide_input_code = true;</script>\n",
       "        <style>\n",
       "\n",
       "        .dark { color: #54565D; }\n",
       "\n",
       "        .darkbg { background-color: #22262E; }\n",
       "\n",
       "        .lex { font-family: 'Lexend', sans-serif; }\n",
       "\n",
       "        .jet { font-family: 'JetBrains Mono', monospace; }\n",
       "\n",
       "        .sky { color: #D6EEF2; }\n",
       "\n",
       "        .skybg { background-color: #D6EEF2; }\n",
       "\n",
       "        .blue { color: #4D8DAC; }\n",
       "\n",
       "        .bluebg { background-color: #4D8DAC; }\n",
       "\n",
       "        .cream { color: #F2E2D6; }\n",
       "\n",
       "        .creambg { background-color: #F2E2D6; }\n",
       "\n",
       "        .peach { color: #F9E0C7; }\n",
       "\n",
       "        .peachbg { background-color: #F9E0C7; }\n",
       "\n",
       "        .orange { color: #D1AA8A; }\n",
       "\n",
       "        .orangebg { background-color: #D1AA8A; }\n",
       "\n",
       "        .olive { color: #9DBE9A; }\n",
       "\n",
       "        .olivebg { background-color: #9DBE9A; }\n",
       "\n",
       "        .darkolive { color: #6B8C6E; }\n",
       "\n",
       "        .darkolivebg { background-color: #6B8C6E; }\n",
       "\n",
       "        .green { color: #E0F0D6; }\n",
       "\n",
       "        .greenbg { background-color: #E0F0D6; }\n",
       "\n",
       "        .orchid { color: #AC4D8D; }\n",
       "\n",
       "        .orchidbg { background-color: #AC4D8D; }\n",
       "\n",
       "        </style>\n",
       "\n",
       "        "
      ],
      "text/plain": [
       "<IPython.core.display.HTML object>"
      ]
     },
     "metadata": {},
     "output_type": "display_data"
    },
    {
     "data": {
      "text/html": [
       "\n",
       "\n",
       "        <div class=\"darkbg p-4 w-full flex flex-col rounded-md mb-2\">\n",
       "\n",
       "        <div class=\"w-full flex flex-col space-y-[8px] dark\">\n",
       "\n",
       "        <span class=\"font-medium text-sm jet\">\n",
       "\n",
       "        Hammad Saeed\n",
       "\n",
       "        </span>\n",
       "\n",
       "        <span class=\"font-medium text-sm jet\">\n",
       "\n",
       "        hammad@supportvectors.com\n",
       "\n",
       "        </span>\n",
       "\n",
       "        </div>\n",
       "\n",
       "        </div>\n",
       "\n",
       "        <div class=\"darkbg p-4 w-full flex flex-col rounded-md mb-2 space-y-2\">\n",
       "\n",
       "        <span class=\"font-medium text-lg lex\">\n",
       "\n",
       "        Yosemite\n",
       "\n",
       "        </span>\n",
       "\n",
       "        </div>\n",
       "        "
      ],
      "text/plain": [
       "<IPython.core.display.HTML object>"
      ]
     },
     "metadata": {},
     "output_type": "display_data"
    },
    {
     "data": {
      "text/html": [
       "\n",
       "        <div class=\"darkolivebg p-4 w-full flex flex-col rounded-md mb-2 space-y-2\">\n",
       "\n",
       "        <span class=\"lex peach font-medium text-3xl\">\n",
       "\n",
       "        RETEX\n",
       "\n",
       "        </span>\n",
       "\n",
       "        <span class=\"lex peach font-light text-2xl\">\n",
       "\n",
       "        Retrieval-Enhanced Text Generation with Experts\n",
       "\n",
       "        </span>\n",
       "\n",
       "        </div>\n",
       "        "
      ],
      "text/plain": [
       "<IPython.core.display.HTML object>"
      ]
     },
     "metadata": {},
     "output_type": "display_data"
    }
   ],
   "source": [
    "from resources.yosemitecommon import YosemiteNotebookCommon\n",
    "note = YosemiteNotebookCommon()\n",
    "note.init()\n",
    "note.display_title(title=\"RETEX\", header=\"Retrieval-Enhanced Text Generation with Experts\")"
   ]
  }
 ],
 "metadata": {
  "kernelspec": {
   "display_name": "y",
   "language": "python",
   "name": "python3"
  },
  "language_info": {
   "codemirror_mode": {
    "name": "ipython",
    "version": 3
   },
   "file_extension": ".py",
   "mimetype": "text/x-python",
   "name": "python",
   "nbconvert_exporter": "python",
   "pygments_lexer": "ipython3",
   "version": "3.12.2"
  }
 },
 "nbformat": 4,
 "nbformat_minor": 2
}
