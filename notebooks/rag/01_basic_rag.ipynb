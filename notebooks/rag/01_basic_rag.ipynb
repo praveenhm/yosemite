{
 "cells": [
  {
   "cell_type": "code",
   "execution_count": 1,
   "metadata": {},
   "outputs": [
    {
     "data": {
      "text/html": [
       "\n",
       "        <!-- TailwindCSS CDN --> <script src=\"https://cdn.tailwindcss.com\"></script>\n",
       "\n",
       "        <!-- Lexend Variable Font --> <link href=\"https://fonts.googleapis.com/css2?family=Lexend:wght@100..900&display=swap\" rel=\"stylesheet\">\n",
       "\n",
       "        <!-- JetBrains Mono Variable Font --> <link href=\"https://fonts.googleapis.com/css2?family=JetBrains+Mono:wght@100..800&display=swap\" rel=\"stylesheet\">\n",
       "\n",
       "        <script>Jupyter.notebook.hide_input_code = true;</script>\n",
       "        <style>\n",
       "\n",
       "        .dark { color: #54565D; }\n",
       "\n",
       "        .darkbg { background-color: #22262E; }\n",
       "\n",
       "        .lex { font-family: 'Lexend', sans-serif; }\n",
       "\n",
       "        .jet { font-family: 'JetBrains Mono', monospace; }\n",
       "\n",
       "        .sky { color: #D6EEF2; }\n",
       "\n",
       "        .skybg { background-color: #D6EEF2; }\n",
       "\n",
       "        .blue { color: #4D8DAC; }\n",
       "\n",
       "        .bluebg { background-color: #4D8DAC; }\n",
       "\n",
       "        .cream { color: #F2E2D6; }\n",
       "\n",
       "        .creambg { background-color: #F2E2D6; }\n",
       "\n",
       "        .peach { color: #F9E0C7; }\n",
       "\n",
       "        .peachbg { background-color: #F9E0C7; }\n",
       "\n",
       "        .orange { color: #D1AA8A; }\n",
       "\n",
       "        .orangebg { background-color: #D1AA8A; }\n",
       "\n",
       "        .olive { color: #9DBE9A; }\n",
       "\n",
       "        .olivebg { background-color: #9DBE9A; }\n",
       "\n",
       "        .darkolive { color: #6B8C6E; }\n",
       "\n",
       "        .darkolivebg { background-color: #6B8C6E; }\n",
       "\n",
       "        .green { color: #E0F0D6; }\n",
       "\n",
       "        .greenbg { background-color: #E0F0D6; }\n",
       "\n",
       "        .orchid { color: #AC4D8D; }\n",
       "\n",
       "        .orchidbg { background-color: #AC4D8D; }\n",
       "\n",
       "        </style>\n",
       "\n",
       "        "
      ],
      "text/plain": [
       "<IPython.core.display.HTML object>"
      ]
     },
     "metadata": {},
     "output_type": "display_data"
    },
    {
     "data": {
      "text/html": [
       "\n",
       "\n",
       "        <div class=\"darkbg p-4 w-full flex flex-col rounded-md mb-2\">\n",
       "\n",
       "        <div class=\"w-full flex flex-col space-y-[8px] dark\">\n",
       "\n",
       "        <span class=\"font-medium text-sm jet\">\n",
       "\n",
       "        Hammad Saeed\n",
       "\n",
       "        </span>\n",
       "\n",
       "        <span class=\"font-medium text-sm jet\">\n",
       "\n",
       "        hammad@supportvectors.com\n",
       "\n",
       "        </span>\n",
       "\n",
       "        </div>\n",
       "\n",
       "        </div>\n",
       "\n",
       "        <div class=\"darkbg p-4 w-full flex flex-col rounded-md mb-2 space-y-2\">\n",
       "\n",
       "        <span class=\"font-medium text-lg lex\">\n",
       "\n",
       "        Yosemite\n",
       "\n",
       "        </span>\n",
       "\n",
       "        </div>\n",
       "        "
      ],
      "text/plain": [
       "<IPython.core.display.HTML object>"
      ]
     },
     "metadata": {},
     "output_type": "display_data"
    },
    {
     "data": {
      "text/html": [
       "\n",
       "        <div class=\"darkolivebg p-4 w-full flex flex-col rounded-md mb-2 space-y-2\">\n",
       "\n",
       "        <span class=\"lex peach font-medium text-3xl\">\n",
       "\n",
       "        RAG\n",
       "\n",
       "        </span>\n",
       "\n",
       "        <span class=\"lex peach font-light text-2xl\">\n",
       "\n",
       "        Retrieval Augmented Generation\n",
       "\n",
       "        </span>\n",
       "\n",
       "        </div>\n",
       "        "
      ],
      "text/plain": [
       "<IPython.core.display.HTML object>"
      ]
     },
     "metadata": {},
     "output_type": "display_data"
    },
    {
     "data": {
      "text/html": [
       "\n",
       "<script src=\"https://cdnjs.cloudflare.com/ajax/libs/highlight.js/11.7.0/highlight.min.js\"></script>\n",
       "<link rel=\"stylesheet\" href=\"https://cdnjs.cloudflare.com/ajax/libs/highlight.js/11.7.0/styles/default.min.css\">\n",
       "<script>hljs.highlightAll();</script>\n",
       "\n",
       "        <div class=\"darkbg p-4 w-full flex flex-col rounded-md mb-2 space-y-4\">\n",
       "        <h2 class=\"lex cream font-medium text-2xl\">Goal - Simple Modular RAG</h2>\n",
       "        <p class=\"font-medium cream text-sm\">At the very least, you need to build a pipeline with a few stages to properly setup RAG. Below is sample outline of libraries that would be necessary and still not the full list needed to properly achieve this goal. As a developer at home, it is a huge hassle building such a long pipeline for a simple concept.</p>\n",
       "        <pre class=\"w-full language-python\"><code class=\" language-python\">\n",
       "        \n",
       "# Parsing Libraries \n",
       "\n",
       "from parser_x import PDF\n",
       "from parser_y import Text\n",
       "from ... import Image, GraphParser, etc...\n",
       "\n",
       "# NLP\n",
       "from cleaner import TextCleaner, ..Tokenizer, Chunker\n",
       "from transformer import SentenceTransformer, CrossEncoder, ..SimilaritySearch\n",
       "\n",
       "# Most Cases would Require a PreExisting Database Service\n",
       "# Database Service & Libraries\n",
       "from database.service import DatabaseClient, Search Client\n",
       "\n",
       "# Vector Index & Search\n",
       "from vector_library import IndexCreator, IndexSearcher\n",
       "....\n",
       "\n",
       "        </code></pre>\n",
       "        </div>\n",
       "        "
      ],
      "text/plain": [
       "<IPython.core.display.HTML object>"
      ]
     },
     "metadata": {},
     "output_type": "display_data"
    },
    {
     "data": {
      "text/plain": [
       "True"
      ]
     },
     "execution_count": 1,
     "metadata": {},
     "output_type": "execute_result"
    }
   ],
   "source": [
    "from resources.yosemitecommon import YosemiteNotebookCommon\n",
    "note = YosemiteNotebookCommon()\n",
    "note.init()\n",
    "note.display_title(title=\"RAG\", header=\"Retrieval Augmented Generation\")\n",
    "note.box_text_code(title=\"Goal - Simple Modular RAG\", content=\"At the very least, you need to build a pipeline with a few stages to properly setup RAG. Below is sample outline of libraries that would be necessary and still not the full list needed to properly achieve this goal. As a developer at home, it is a huge hassle building such a long pipeline for a simple concept.\",language=\"python\", code=str(f\"\"\"\n",
    "# Parsing Libraries \\n\n",
    "from parser_x import PDF\n",
    "from parser_y import Text\n",
    "from ... import Image, GraphParser, etc...\n",
    "\n",
    "# NLP\n",
    "from cleaner import TextCleaner, ..Tokenizer, Chunker\n",
    "from transformer import SentenceTransformer, CrossEncoder, ..SimilaritySearch\n",
    "\n",
    "# Most Cases would Require a PreExisting Database Service\n",
    "# Database Service & Libraries\n",
    "from database.service import DatabaseClient, Search Client\n",
    "\n",
    "# Vector Index & Search\n",
    "from vector_library import IndexCreator, IndexSearcher\n",
    "....\n",
    "\"\"\"))\n",
    "\n",
    "from dotenv import load_dotenv\n",
    "load_dotenv()"
   ]
  },
  {
   "cell_type": "code",
   "execution_count": 2,
   "metadata": {},
   "outputs": [
    {
     "data": {
      "text/html": [
       "\n",
       "        <div class=\"darkbg p-4 w-full flex flex-col rounded-md mb-2 space-y-4\">\n",
       "\n",
       "        <div class=\"w-full flex\">\n",
       "\n",
       "        <span class=\"lex peach font-medium text-2xl\">\n",
       "\n",
       "        Lets start building the Database!\n",
       "\n",
       "        </span>\n",
       "\n",
       "        </div>\n",
       "\n",
       "        </div>\n",
       "        "
      ],
      "text/plain": [
       "<IPython.core.display.HTML object>"
      ]
     },
     "metadata": {},
     "output_type": "display_data"
    }
   ],
   "source": [
    "note.display_subtitle(\"Lets start building the Database!\")"
   ]
  },
  {
   "cell_type": "code",
   "execution_count": 3,
   "metadata": {},
   "outputs": [
    {
     "name": "stdout",
     "output_type": "stream",
     "text": [
      "LLM initialized with provider: openai\n",
      "Creating New Database... @ default path = './databases/db'\n",
      "Loading documents from documents/...\n"
     ]
    }
   ],
   "source": [
    "# One Class for the RAG Pipeline\n",
    "from yosemite.llms import RAG\n",
    "\n",
    "# Create an Instance of the RAG Class\n",
    "rag = RAG()\n",
    "\n",
    "# Build the RAG Database using a directory of specified Documents\n",
    "rag.build(\"documents/\")"
   ]
  },
  {
   "cell_type": "code",
   "execution_count": 9,
   "metadata": {},
   "outputs": [
    {
     "data": {
      "text/html": [
       "\n",
       "        <div class=\"darkbg p-4 w-full flex flex-col rounded-md mb-2 space-y-4\">\n",
       "\n",
       "        <div class=\"w-full flex\">\n",
       "\n",
       "        <span class=\"lex peach font-medium text-2xl\">\n",
       "\n",
       "        Thats It.\n",
       "\n",
       "        </span>\n",
       "\n",
       "        </div>\n",
       "\n",
       "        </div>\n",
       "        "
      ],
      "text/plain": [
       "<IPython.core.display.HTML object>"
      ]
     },
     "metadata": {},
     "output_type": "display_data"
    },
    {
     "data": {
      "text/html": [
       "\n",
       "        <div class=\"darkbg p-4 w-full flex flex-col rounded-md mb-2 space-y-4\">\n",
       "\n",
       "        <div class=\"w-full flex\">\n",
       "\n",
       "        <span class=\"lex peach font-medium text-2xl\">\n",
       "\n",
       "        You have a fully functional RAG Database. Now you can start querying the database for information.\n",
       "\n",
       "        </span>\n",
       "\n",
       "        </div>\n",
       "\n",
       "        </div>\n",
       "        "
      ],
      "text/plain": [
       "<IPython.core.display.HTML object>"
      ]
     },
     "metadata": {},
     "output_type": "display_data"
    }
   ],
   "source": [
    "note.display_subtitle(\"Thats It.\")\n",
    "note.display_subtitle(\"You have a fully functional RAG Database. Now you can start querying the database for information.\")"
   ]
  },
  {
   "cell_type": "code",
   "execution_count": 10,
   "metadata": {},
   "outputs": [],
   "source": [
    "results = rag.search(\"Who is going to win the Piston Cup?\")"
   ]
  },
  {
   "cell_type": "code",
   "execution_count": 11,
   "metadata": {},
   "outputs": [
    {
     "name": "stdout",
     "output_type": "stream",
     "text": [
      "Document ID: 9291cc69-7306-4dff-aeb4-d33b6a51e1ea\n",
      "Chunk: Oh, yeah, that... That is spectacular advice. Thank you, Mr. The King. Ladies and gentlemen, for the first time in Piston Cup history... A rookie has won the Piston Cup.\n",
      "Relevance Score: 9.376338958740234\n",
      "---\n",
      "Document ID: 9291cc69-7306-4dff-aeb4-d33b6a51e1ea\n",
      "Chunk: Lightning McQueen is gonna win the Piston Cup! Come on! You got it! You got it, Stickers! I am not comin' in behind you again, old man.\n",
      "Relevance Score: 6.979335784912109\n",
      "---\n",
      "Document ID: 9291cc69-7306-4dff-aeb4-d33b6a51e1ea\n",
      "Chunk: Will you still race for the Piston Cup? - Stickers? - Sally! Come on, give us some bolt! You're here! Thank the manufacturer! You're alive! - Mack?\n",
      "Relevance Score: 6.312305927276611\n",
      "---\n",
      "Document ID: 9291cc69-7306-4dff-aeb4-d33b6a51e1ea\n",
      "Chunk: If this gets more exciting, they're gonna have to tow me outta the booth! Right you are, Darrell. Three cars are tied for the season points lead, heading into the final race of the season. And the winner of this race will win the season title and the Piston Cup. Does The King, Strip Weathers, have one more victory in him before retirement?\n",
      "Relevance Score: 5.851452827453613\n",
      "---\n",
      "Document ID: 9291cc69-7306-4dff-aeb4-d33b6a51e1ea\n",
      "Chunk: Yes! ...we have a three-way tie. Hey, McQueen, that must be really embarrassing. But I wouldn't worry about it. Because I didn't do it! Piston Cup officials have determined that a tiebreaker race between the three leaders will be held in California in one week. Well, thank you!\n",
      "Relevance Score: 5.60300874710083\n",
      "---\n",
      "Document ID: 9291cc69-7306-4dff-aeb4-d33b6a51e1ea\n",
      "Chunk: And we don't know who won! - Look at that! Hey, no cameras! Get outta here! We're here in Victory Lane, awaiting the results.\n",
      "Relevance Score: 4.3798041343688965\n",
      "---\n",
      "Document ID: 9291cc69-7306-4dff-aeb4-d33b6a51e1ea\n",
      "Chunk: You know, I don't think anybody expected this. The rookie sensation came into the season unknown. But everyone knows him now. Will he be the first rookie to win a Piston Cup and land Dinoco? The legend, the runner-up, and the rookie!\n",
      "Relevance Score: 4.118569374084473\n",
      "---\n",
      "Document ID: 9291cc69-7306-4dff-aeb4-d33b6a51e1ea\n",
      "Chunk: I didn't get to say goodbye to him. Hello, race fans, and welcome to what has become, quite simply, the biggest event in the history of racing. A three-way battle for the Piston Cup! There's a crowd of nearly 200,000 cars here at the Los Angeles International Speedway. Tickets to this race are hotter than a black leather seat on a hot summer day!\n",
      "Relevance Score: 2.644876003265381\n",
      "---\n",
      "Document ID: 9291cc69-7306-4dff-aeb4-d33b6a51e1ea\n",
      "Chunk: I need you to call my team, so they can come rescue me and get me to California in time for me to win the Piston Cup. Understand? No, no, no, no, no, no, no. No, it's the truth! I'm telling you! You gotta help me!\n",
      "Relevance Score: 2.545140027999878\n",
      "---\n",
      "Document ID: 9291cc69-7306-4dff-aeb4-d33b6a51e1ea\n",
      "Chunk: What? Oh, yeah, right. That was a confident Lightning McQueen. Live from Victory Lane, I'm Kori Turbowitz. Get outta the shot.\n",
      "Relevance Score: 2.255241870880127\n",
      "---\n",
      "Document ID: 9291cc69-7306-4dff-aeb4-d33b6a51e1ea\n",
      "Chunk: He has a Piston Cup? Oh, my gosh. Three Piston Cups? Sign says stay out. You have three Piston Cups. How could you have...\n",
      "Relevance Score: 1.7710151672363281\n",
      "---\n",
      "Document ID: 9291cc69-7306-4dff-aeb4-d33b6a51e1ea\n",
      "Chunk: He's been Dinoco's golden boy for years! Can he win them one last Piston Cup? And, as always, in the second place spot we find Chick Hicks. He's been chasing that tailfin his entire career. Chick thought this was his year, Bob.\n",
      "Relevance Score: -2.159937620162964\n",
      "---\n",
      "Document ID: 9291cc69-7306-4dff-aeb4-d33b6a51e1ea\n",
      "Chunk: No, but I wish I could have. They say he was amazing! - He won three Piston Cups! - He did what in his cup? I think the heat's startin' to get to the boy!\n",
      "Relevance Score: -7.223746299743652\n",
      "---\n",
      "Document ID: 9291cc69-7306-4dff-aeb4-d33b6a51e1ea\n",
      "Chunk: What are you doin', kid? I think The King should finish his last race. You just gave up the Piston Cup, you know that? This grumpy old racecar I know once told me somethin'. It's just an empty cup.\n",
      "Relevance Score: -8.423480987548828\n",
      "---\n",
      "Document ID: 9291cc69-7306-4dff-aeb4-d33b6a51e1ea\n",
      "Chunk: You ain't gonna win unless you got good folks behind you, and you let them do their job, like they should. - Like I tell the boys at the shop... - A good team. Yeah... Oh, Lightning! If you figure that out you just gonna be OK.\n",
      "Relevance Score: -10.783515930175781\n",
      "---\n"
     ]
    }
   ],
   "source": [
    "for result in results:\n",
    "    print(f\"Document ID: {result['document_id']}\")\n",
    "    print(f\"Chunk: {result['chunk']}\")\n",
    "    print(f\"Relevance Score: {result['relevance_score'][1]}\")\n",
    "    print(\"---\")"
   ]
  },
  {
   "cell_type": "code",
   "execution_count": 7,
   "metadata": {},
   "outputs": [
    {
     "data": {
      "text/html": [
       "\n",
       "        <div class=\"darkbg p-4 w-full flex flex-col rounded-md mb-2 space-y-4\">\n",
       "\n",
       "        <div class=\"w-full flex\">\n",
       "\n",
       "        <span class=\"lex peach font-medium text-2xl\">\n",
       "\n",
       "        Time to Generate a Response!\n",
       "\n",
       "        </span>\n",
       "\n",
       "        </div>\n",
       "\n",
       "        </div>\n",
       "        "
      ],
      "text/plain": [
       "<IPython.core.display.HTML object>"
      ]
     },
     "metadata": {},
     "output_type": "display_data"
    }
   ],
   "source": [
    "note.display_subtitle(\"Time to Generate a Response!\")"
   ]
  },
  {
   "cell_type": "code",
   "execution_count": 12,
   "metadata": {},
   "outputs": [
    {
     "data": {
      "text/plain": [
       "\"Quiet-STaR learning is a method of machine learning that focuses on minimizing the impact of noisy or irrelevant data during the training process. It emphasizes the importance of identifying and disregarding irrelevant features or examples to improve the overall performance of the model. This approach helps to reduce the impact of noisy data, leading to more accurate and reliable predictions. It's a valuable technique in situations where data quality is a concern, and it can be particularly beneficial for enhancing the robustness of machine learning models.\""
      ]
     },
     "execution_count": 12,
     "metadata": {},
     "output_type": "execute_result"
    }
   ],
   "source": [
    "rag.invoke(\"What is Quiet-STaR learning?\")"
   ]
  }
 ],
 "metadata": {
  "kernelspec": {
   "display_name": "y",
   "language": "python",
   "name": "python3"
  },
  "language_info": {
   "codemirror_mode": {
    "name": "ipython",
    "version": 3
   },
   "file_extension": ".py",
   "mimetype": "text/x-python",
   "name": "python",
   "nbconvert_exporter": "python",
   "pygments_lexer": "ipython3",
   "version": "3.12.2"
  }
 },
 "nbformat": 4,
 "nbformat_minor": 2
}
