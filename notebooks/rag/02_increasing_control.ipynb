{
 "cells": [
  {
   "cell_type": "code",
   "execution_count": 26,
   "metadata": {},
   "outputs": [
    {
     "data": {
      "text/html": [
       "\n",
       "        <!-- TailwindCSS CDN --> <script src=\"https://cdn.tailwindcss.com\"></script>\n",
       "\n",
       "        <!-- Lexend Variable Font --> <link href=\"https://fonts.googleapis.com/css2?family=Lexend:wght@100..900&display=swap\" rel=\"stylesheet\">\n",
       "\n",
       "        <!-- JetBrains Mono Variable Font --> <link href=\"https://fonts.googleapis.com/css2?family=JetBrains+Mono:wght@100..800&display=swap\" rel=\"stylesheet\">\n",
       "\n",
       "        <script>Jupyter.notebook.hide_input_code = true;</script>\n",
       "        <style>\n",
       "\n",
       "        .dark { color: #54565D; }\n",
       "\n",
       "        .darkbg { background-color: #22262E; }\n",
       "\n",
       "        .lex { font-family: 'Lexend', sans-serif; }\n",
       "\n",
       "        .jet { font-family: 'JetBrains Mono', monospace; }\n",
       "\n",
       "        .sky { color: #D6EEF2; }\n",
       "\n",
       "        .skybg { background-color: #D6EEF2; }\n",
       "\n",
       "        .blue { color: #4D8DAC; }\n",
       "\n",
       "        .bluebg { background-color: #4D8DAC; }\n",
       "\n",
       "        .cream { color: #F2E2D6; }\n",
       "\n",
       "        .creambg { background-color: #F2E2D6; }\n",
       "\n",
       "        .peach { color: #F9E0C7; }\n",
       "\n",
       "        .peachbg { background-color: #F9E0C7; }\n",
       "\n",
       "        .orange { color: #D1AA8A; }\n",
       "\n",
       "        .orangebg { background-color: #D1AA8A; }\n",
       "\n",
       "        .olive { color: #9DBE9A; }\n",
       "\n",
       "        .olivebg { background-color: #9DBE9A; }\n",
       "\n",
       "        .darkolive { color: #6B8C6E; }\n",
       "\n",
       "        .darkolivebg { background-color: #6B8C6E; }\n",
       "\n",
       "        .green { color: #E0F0D6; }\n",
       "\n",
       "        .greenbg { background-color: #E0F0D6; }\n",
       "\n",
       "        .orchid { color: #AC4D8D; }\n",
       "\n",
       "        .orchidbg { background-color: #AC4D8D; }\n",
       "\n",
       "        </style>\n",
       "\n",
       "        "
      ],
      "text/plain": [
       "<IPython.core.display.HTML object>"
      ]
     },
     "metadata": {},
     "output_type": "display_data"
    },
    {
     "data": {
      "text/html": [
       "\n",
       "\n",
       "        <div class=\"darkbg p-4 w-full flex flex-col rounded-md mb-2\">\n",
       "\n",
       "        <div class=\"w-full flex flex-col space-y-[8px] dark\">\n",
       "\n",
       "        <span class=\"font-medium text-sm jet\">\n",
       "\n",
       "        Hammad Saeed\n",
       "\n",
       "        </span>\n",
       "\n",
       "        <span class=\"font-medium text-sm jet\">\n",
       "\n",
       "        hammad@supportvectors.com\n",
       "\n",
       "        </span>\n",
       "\n",
       "        </div>\n",
       "\n",
       "        </div>\n",
       "\n",
       "        <div class=\"darkbg p-4 w-full flex flex-col rounded-md mb-2 space-y-2\">\n",
       "\n",
       "        <span class=\"font-medium text-lg lex\">\n",
       "\n",
       "        Yosemite\n",
       "\n",
       "        </span>\n",
       "\n",
       "        </div>\n",
       "        "
      ],
      "text/plain": [
       "<IPython.core.display.HTML object>"
      ]
     },
     "metadata": {},
     "output_type": "display_data"
    },
    {
     "data": {
      "text/html": [
       "\n",
       "        <div class=\"darkolivebg p-4 w-full flex flex-col rounded-md mb-2 space-y-2\">\n",
       "\n",
       "        <span class=\"lex peach font-medium text-3xl\">\n",
       "\n",
       "        RAG\n",
       "\n",
       "        </span>\n",
       "\n",
       "        <span class=\"lex peach font-light text-2xl\">\n",
       "\n",
       "        Increasing Control\n",
       "\n",
       "        </span>\n",
       "\n",
       "        </div>\n",
       "        "
      ],
      "text/plain": [
       "<IPython.core.display.HTML object>"
      ]
     },
     "metadata": {},
     "output_type": "display_data"
    },
    {
     "data": {
      "text/html": [
       "\n",
       "        <div class=\"darkbg p-4 w-full flex flex-col rounded-md mb-2 space-y-4\">\n",
       "\n",
       "        <div class=\"w-full flex\">\n",
       "\n",
       "        <span class=\"lex peach font-medium text-2xl\">\n",
       "\n",
       "        Now that we've created a simple RAG Database and queried it; lets see how we can gain more control. This RAG class it not as simple as it seems.\n",
       "\n",
       "        </span>\n",
       "\n",
       "        </div>\n",
       "\n",
       "        </div>\n",
       "        "
      ],
      "text/plain": [
       "<IPython.core.display.HTML object>"
      ]
     },
     "metadata": {},
     "output_type": "display_data"
    },
    {
     "data": {
      "text/plain": [
       "True"
      ]
     },
     "execution_count": 26,
     "metadata": {},
     "output_type": "execute_result"
    }
   ],
   "source": [
    "from resources.yosemitecommon import YosemiteNotebookCommon\n",
    "note = YosemiteNotebookCommon()\n",
    "note.init()\n",
    "note.display_title(title=\"RAG\", header=\"Increasing Control\")\n",
    "note.display_subtitle(\"Now that we've created a simple RAG Database and queried it; lets see how we can gain more control. This RAG class it not as simple as it seems.\")\n",
    "\n",
    "from dotenv import load_dotenv\n",
    "load_dotenv()"
   ]
  },
  {
   "cell_type": "code",
   "execution_count": 27,
   "metadata": {},
   "outputs": [
    {
     "name": "stdout",
     "output_type": "stream",
     "text": [
      "LLM initialized with provider: openai\n",
      "LLM initialized with provider: nvidia\n"
     ]
    },
    {
     "name": "stdout",
     "output_type": "stream",
     "text": [
      "Loading Database...\n",
      "Loading Database...\n"
     ]
    }
   ],
   "source": [
    "from yosemite.llms import RAG\n",
    "\n",
    "# Lets Create Two RAG Objects & Intialize\n",
    "rag_1 = RAG()\n",
    "rag_2 = RAG(\n",
    "    provider=\"nvidia\",\n",
    "    # api_key = key,\n",
    "    # repo = \"\",\n",
    "    # base_url = \"\",\n",
    ")\n",
    "\n",
    "rag_1.create(\"databases/db\")\n",
    "rag_2.create(\"databases/db\")"
   ]
  },
  {
   "cell_type": "code",
   "execution_count": 28,
   "metadata": {},
   "outputs": [
    {
     "data": {
      "text/html": [
       "\n",
       "        <div class=\"darkbg p-4 w-full flex flex-col rounded-md mb-2 space-y-4\">\n",
       "\n",
       "        <div class=\"w-full flex\">\n",
       "\n",
       "        <span class=\"lex peach font-medium text-2xl\">\n",
       "\n",
       "        Lets Customize Our RAG 'Agents'\n",
       "\n",
       "        </span>\n",
       "\n",
       "        </div>\n",
       "\n",
       "        </div>\n",
       "        "
      ],
      "text/plain": [
       "<IPython.core.display.HTML object>"
      ]
     },
     "metadata": {},
     "output_type": "display_data"
    }
   ],
   "source": [
    "note.display_subtitle(\"Lets Customize Our RAG 'Agents'\")"
   ]
  },
  {
   "cell_type": "code",
   "execution_count": 29,
   "metadata": {},
   "outputs": [],
   "source": [
    "rag_1.customize(\n",
    "    name = \"Steve\",\n",
    "    tone = \"Horribly Unprofessional\",\n",
    "    additional_instructions = \"Steve is not very bright, he often slurs most of his words and is confused by most simple questions. He will not ever answer something right.\",\n",
    ")\n",
    "\n",
    "rag_2.customize(\n",
    "    name = \"Asif Qamar\",\n",
    "    role = \"AI Professor\",\n",
    "    tone = \"Incredibly Professional & Friendly\",\n",
    "    additional_instructions = \"Explains questions very thourougly and thoughtfully.\"\n",
    ")"
   ]
  },
  {
   "cell_type": "code",
   "execution_count": 30,
   "metadata": {},
   "outputs": [
    {
     "data": {
      "text/plain": [
       "\"Umm, like, you know, I think, like, you just do the thing with the stuff and then it works or something. I dunno, it's all very complicated and stuff. Just, like, try Googling it or something, maybe?\""
      ]
     },
     "execution_count": 30,
     "metadata": {},
     "output_type": "execute_result"
    }
   ],
   "source": [
    "rag_1.invoke(\"How do you incorporate Quiet STaR\")"
   ]
  },
  {
   "cell_type": "code",
   "execution_count": 31,
   "metadata": {},
   "outputs": [
    {
     "data": {
      "text/plain": [
       "' Quiet STaR, or Quiet Self-Taught Reasoner, is a technique used to enable language models to learn to reason by generating rationales at each token to explain future text. This improves their predictions, allowing them to self-improve and learn which decomposition and planning steps are effective in predicting future text.\\n\\nQuiet STaR operates in three main steps:\\n\\n1. Parallel rationale generation: In this step, rationales of a specified length are generated in parallel for all tokens in the input sequence. These rationales serve as the thoughts or explanations for the model.\\n\\n2. Mixing post-rationale and base predictions: From the hidden state output after each rationale, a mixing head is trained. This mixing head produces a weight that determines how much the post-rationale next-token predicted logits should be mixed with the base predictions.\\n\\n3. Solving instability issues: Several aspects of this task have the potential to introduce instability, such as the utility of a generated thought and the mapping from the thought to its contribution. To handle these issues, techniques like the parallel attention mask and caching each continuation efficiently are used.\\n\\nQuiet STaR has shown improvements in language modeling tasks, such as on GSM8K and CommonsenseQA, without requiring fine-tuning on these tasks. This marks a step towards language models that can learn to reason in a more general and scalable manner.'"
      ]
     },
     "execution_count": 31,
     "metadata": {},
     "output_type": "execute_result"
    }
   ],
   "source": [
    "rag_2.invoke(\"How do you incorporate Quiet STaR\", model=\"mistral\")"
   ]
  }
 ],
 "metadata": {
  "kernelspec": {
   "display_name": "y",
   "language": "python",
   "name": "python3"
  },
  "language_info": {
   "codemirror_mode": {
    "name": "ipython",
    "version": 3
   },
   "file_extension": ".py",
   "mimetype": "text/x-python",
   "name": "python",
   "nbconvert_exporter": "python",
   "pygments_lexer": "ipython3",
   "version": "3.12.2"
  }
 },
 "nbformat": 4,
 "nbformat_minor": 2
}
