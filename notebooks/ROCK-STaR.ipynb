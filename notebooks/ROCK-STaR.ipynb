{
 "cells": [
  {
   "cell_type": "code",
   "execution_count": 2,
   "metadata": {},
   "outputs": [
    {
     "data": {
      "application/javascript": "\ndocument.addEventListener('DOMContentLoaded', function() {\n  var codecells = document.getElementsByClassName('code_cell');\n  for (var i = 0; i < codecells.length; i++) {\n    codecells[i].style.display = 'none';\n  }\n});\n",
      "text/plain": [
       "<IPython.core.display.Javascript object>"
      ]
     },
     "metadata": {},
     "output_type": "display_data"
    }
   ],
   "source": [
    "%run assets/yosemite_config.ipynb"
   ]
  }
 ],
 "metadata": {
  "kernelspec": {
   "display_name": "galora",
   "language": "python",
   "name": "python3"
  },
  "language_info": {
   "codemirror_mode": {
    "name": "ipython",
    "version": 3
   },
   "file_extension": ".py",
   "mimetype": "text/x-python",
   "name": "python",
   "nbconvert_exporter": "python",
   "pygments_lexer": "ipython3",
   "version": "3.10.14"
  }
 },
 "nbformat": 4,
 "nbformat_minor": 2
}
