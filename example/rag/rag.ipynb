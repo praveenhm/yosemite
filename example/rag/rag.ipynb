{
 "cells": [
  {
   "cell_type": "code",
   "execution_count": 2,
   "metadata": {},
   "outputs": [
    {
     "data": {
      "text/plain": [
       "True"
      ]
     },
     "execution_count": 2,
     "metadata": {},
     "output_type": "execute_result"
    }
   ],
   "source": [
    "from dotenv import load_dotenv\n",
    "load_dotenv()"
   ]
  },
  {
   "cell_type": "code",
   "execution_count": 3,
   "metadata": {},
   "outputs": [
    {
     "name": "stdout",
     "output_type": "stream",
     "text": [
      "LLM initialized with provider: openai\n",
      "Creating New Database... @ default path = './databases/db'\n",
      "Loading documents from documents...\n"
     ]
    }
   ],
   "source": [
    "from yosemite.llms import RAG\n",
    "\n",
    "rag = RAG()\n",
    "rag.build(directory=\"documents\")"
   ]
  },
  {
   "cell_type": "code",
   "execution_count": 4,
   "metadata": {},
   "outputs": [
    {
     "data": {
      "text/plain": [
       "'Quiet-STar learning is a technique used in machine learning and artificial intelligence to emphasize the importance of minimizing the impact of outliers or noisy data on the overall learning process. It is particularly useful in situations where the dataset may contain a significant amount of irrelevant or misleading information.\\n\\nTo implement Quiet-STar learning, you can use algorithms and techniques specifically designed to reduce the influence of noisy data points. This may involve using robust statistical methods, outlier detection, or modifying standard learning algorithms to be more resilient to noise.\\n\\nOverall, the goal of Quiet-STar learning is to ensure that the learning process focuses on the most significant and reliable patterns within the data, thus leading to more accurate and robust predictive models.'"
      ]
     },
     "execution_count": 4,
     "metadata": {},
     "output_type": "execute_result"
    }
   ],
   "source": [
    "rag.invoke(\"How to use Quiet-STar learning?\")"
   ]
  }
 ],
 "metadata": {
  "kernelspec": {
   "display_name": "galora",
   "language": "python",
   "name": "python3"
  },
  "language_info": {
   "codemirror_mode": {
    "name": "ipython",
    "version": 3
   },
   "file_extension": ".py",
   "mimetype": "text/x-python",
   "name": "python",
   "nbconvert_exporter": "python",
   "pygments_lexer": "ipython3",
   "version": "3.10.14"
  }
 },
 "nbformat": 4,
 "nbformat_minor": 2
}
